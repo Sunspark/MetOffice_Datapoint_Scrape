{
    "metadata": {
        "kernelspec": {
            "name": "python3",
            "display_name": "Python 3 (ipykernel)",
            "language": "python"
        },
        "language_info": {
            "name": "python",
            "version": "3.8.10",
            "mimetype": "text/x-python",
            "codemirror_mode": {
                "name": "ipython",
                "version": 3
            },
            "pygments_lexer": "ipython3",
            "nbconvert_exporter": "python",
            "file_extension": ".py"
        },
        "extensions": {
            "azuredatastudio": {
                "version": 1,
                "views": []
            }
        }
    },
    "nbformat_minor": 2,
    "nbformat": 4,
    "cells": [
        {
            "cell_type": "code",
            "source": [
                "import secret as k\r\n",
                "import requests\r\n",
                "import csv"
            ],
            "metadata": {
                "azdata_cell_guid": "04e0853e-03a3-4585-8f4f-407383ed323d"
            },
            "outputs": [],
            "execution_count": 1
        },
        {
            "cell_type": "code",
            "source": [
                "#request_URL = 'http://datapoint.metoffice.gov.uk/public/data/val/wxobs/all/json/3772' # the specific location for HEATHROW\r\n",
                "request_URL = 'http://datapoint.metoffice.gov.uk/public/data/val/wxobs/all/xml/all' # get everything. Note the JSON schema changes....\r\n",
                "request_params = {\r\n",
                "  'res' : 'hourly',\r\n",
                "  'key' : k.api_key\r\n",
                "}\r\n",
                "response = requests.get(request_URL, request_params)\r\n",
                "print(response.status_code)"
            ],
            "metadata": {
                "azdata_cell_guid": "38467064-435e-492c-800f-77d34ba27a9b"
            },
            "outputs": [
                {
                    "name": "stdout",
                    "text": "200\n",
                    "output_type": "stream"
                }
            ],
            "execution_count": 2
        },
        {
            "cell_type": "code",
            "source": [
                "from bs4 import BeautifulSoup\r\n",
                "\r\n",
                "soup = BeautifulSoup(response.content, \"html.parser\")\r\n",
                "#print(soup)"
            ],
            "metadata": {
                "azdata_cell_guid": "8ac784b2-df3f-4923-91a8-d96db08046da"
            },
            "outputs": [],
            "execution_count": 6
        },
        {
            "cell_type": "code",
            "source": [
                "incoming_locations = []\r\n",
                "incoming_observations = []\r\n",
                "locations_to_parse = soup.find_all(\"location\")\r\n",
                "\r\n",
                "#locations_to_parse\r\n",
                "\r\n",
                "for location in locations_to_parse :\r\n",
                "  current_location_id = location.get('i')\r\n",
                "  temp_location = {\r\n",
                "    'continent' : location.get('continent'),\r\n",
                "    'country' : location.get('country'),\r\n",
                "    'elevation' : location.get('elevation'),\r\n",
                "    'i' : current_location_id,\r\n",
                "    'lat' : location.get('lat'),\r\n",
                "    'lon' : location.get('lon'),\r\n",
                "    'name' : location.get('name')\r\n",
                "  }\r\n",
                "  incoming_locations.append(temp_location)\r\n",
                "\r\n",
                "  # Theoretically, this API end-point should always return at the 'Day' granularity\r\n",
                "  for period in location.find_all(\"period\") :\r\n",
                "    current_day = period.get('value')\r\n",
                "\r\n",
                "    for rep in period.find_all(\"rep\") :\r\n",
                "      temp_observation = {\r\n",
                "        'LocationID' : current_location_id,\r\n",
                "        'ObservationDate' : current_day,\r\n",
                "        'G' : rep.get('g'),\r\n",
                "        'T' : rep.get('t'),\r\n",
                "        'V' : rep.get('v'),\r\n",
                "        'D' : rep.get('d'),\r\n",
                "        'S' : rep.get('s'),\r\n",
                "        'W' : rep.get('w'),\r\n",
                "        'P' : rep.get('p'),\r\n",
                "        'Pt' : rep.get('pt'),\r\n",
                "        'Dp' : rep.get('dp'),\r\n",
                "        'H' : rep.get('h'),\r\n",
                "        '$' : rep.text.strip()\r\n",
                "      }\r\n",
                "      incoming_observations.append(temp_observation)\r\n",
                "\r\n",
                "#incoming_locations\r\n",
                "#incoming_observations"
            ],
            "metadata": {
                "azdata_cell_guid": "16826f17-bdc7-4812-a9ea-f7f331d4d612"
            },
            "outputs": [],
            "execution_count": 16
        },
        {
            "cell_type": "code",
            "source": [
                "# outputs a list of dicts to a file,\r\n",
                "# using the keys of the first dict as the header row\r\n",
                "# this errors if the others have additional fields\r\n",
                "def list_to_csv(list_of_dicts, fieldnames, fname):\r\n",
                "  with open(fname, 'w', newline='') as out_file:\r\n",
                "    output = csv.DictWriter(out_file, fieldnames=fieldnames)\r\n",
                "\r\n",
                "    output.writeheader()\r\n",
                "    for row in list_of_dicts:\r\n",
                "      output.writerow(row)\r\n",
                "\r\n",
                "\r\n",
                "list_to_csv(incoming_locations, list(incoming_locations[0].keys()), 'incoming_locations.csv')\r\n",
                "list_to_csv(incoming_observations, list(incoming_observations[0].keys()), 'incoming_observations.csv')"
            ],
            "metadata": {
                "azdata_cell_guid": "6c35031d-d417-45da-9f69-b94814542abf"
            },
            "outputs": [],
            "execution_count": 17
        }
    ]
}