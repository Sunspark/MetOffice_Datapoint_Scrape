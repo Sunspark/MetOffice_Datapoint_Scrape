{
    "metadata": {
        "kernelspec": {
            "name": "python3",
            "display_name": "Python 3 (ipykernel)",
            "language": "python"
        },
        "language_info": {
            "name": "python",
            "version": "3.8.10",
            "mimetype": "text/x-python",
            "codemirror_mode": {
                "name": "ipython",
                "version": 3
            },
            "pygments_lexer": "ipython3",
            "nbconvert_exporter": "python",
            "file_extension": ".py"
        },
        "extensions": {
            "azuredatastudio": {
                "version": 1,
                "views": []
            }
        }
    },
    "nbformat_minor": 2,
    "nbformat": 4,
    "cells": [
        {
            "cell_type": "code",
            "source": [
                "import secret as k\r\n",
                "import requests\r\n",
                "import json\r\n",
                "import csv"
            ],
            "metadata": {
                "azdata_cell_guid": "04e0853e-03a3-4585-8f4f-407383ed323d"
            },
            "outputs": [],
            "execution_count": 16
        },
        {
            "cell_type": "code",
            "source": [
                "request_URL = 'http://datapoint.metoffice.gov.uk/public/data/val/wxobs/all/json/3772' # the specific location for HEATHROW\r\n",
                "#request_URL = 'http://datapoint.metoffice.gov.uk/public/data/val/wxobs/all/json/all' # get everything. Note the JSON schema changes....\r\n",
                "request_params = {\r\n",
                "  'res' : 'hourly',\r\n",
                "  'key' : k.api_key\r\n",
                "}\r\n",
                "response = requests.get(request_URL, request_params)\r\n",
                "print(response.status_code)"
            ],
            "metadata": {
                "azdata_cell_guid": "38467064-435e-492c-800f-77d34ba27a9b"
            },
            "outputs": [
                {
                    "name": "stdout",
                    "text": "200\n",
                    "output_type": "stream"
                }
            ],
            "execution_count": 17
        },
        {
            "cell_type": "code",
            "source": [
                "def jprint(obj):\r\n",
                "    # create a formatted string of the Python JSON object\r\n",
                "    text = json.dumps(obj, sort_keys=True, indent=2)\r\n",
                "    print(text)\r\n",
                "\r\n",
                "#jprint(response.json())"
            ],
            "metadata": {
                "azdata_cell_guid": "8ac784b2-df3f-4923-91a8-d96db08046da"
            },
            "outputs": [],
            "execution_count": 49
        },
        {
            "cell_type": "code",
            "source": [
                "incoming_locations = []\r\n",
                "incoming_observations = []\r\n",
                "incoming_list_to_parse = []\r\n",
                "\r\n",
                "type(response.json()['SiteRep']['DV'])\r\n",
                "\r\n",
                "if (isinstance(response.json()['SiteRep']['DV']['Location'], dict)) :\r\n",
                "  incoming_list_to_parse.append(response.json()['SiteRep']['DV']['Location'])\r\n",
                "else :\r\n",
                "  incoming_list_to_parse = response.json()['SiteRep']['DV']['Location']\r\n",
                "\r\n",
                "for location in incoming_list_to_parse:\r\n",
                "  raw_observations = location.pop('Period', None)\r\n",
                "  incoming_locations.append(location)\r\n",
                "  # print(location['name'])\r\n",
                "\r\n",
                "  current_location_id = location['i']\r\n",
                "  observations_to_parse = []\r\n",
                "\r\n",
                "  if (isinstance(raw_observations, dict)) :\r\n",
                "    observations_to_parse.append(raw_observations)\r\n",
                "  else :\r\n",
                "    observations_to_parse = raw_observations\r\n",
                "\r\n",
                "  for observation_period in observations_to_parse :\r\n",
                "    observation_date = observation_period['value']\r\n",
                "\r\n",
                "    reps_to_parse = []\r\n",
                "    if (isinstance(observation_period['Rep'], dict)) :\r\n",
                "      reps_to_parse.append(raw_observations)\r\n",
                "    else :\r\n",
                "      reps_to_parse = observation_period['Rep']\r\n",
                "\r\n",
                "    for rep in reps_to_parse:\r\n",
                "      rep['LocationID'] = current_location_id\r\n",
                "      rep['ObservationDate'] = observation_date\r\n",
                "      incoming_observations.append(rep)\r\n",
                "\r\n",
                "#incoming_locations\r\n",
                "#incoming_observations"
            ],
            "metadata": {
                "azdata_cell_guid": "16826f17-bdc7-4812-a9ea-f7f331d4d612"
            },
            "outputs": [],
            "execution_count": 47
        },
        {
            "cell_type": "code",
            "source": [
                "# outputs a list of dicts to a file,\r\n",
                "# using the keys of the first dict as the header row\r\n",
                "# this errors if the others have additional fields\r\n",
                "def list_to_csv(list_of_dicts, fieldnames, fname):\r\n",
                "  with open(fname, 'w', newline='') as out_file:\r\n",
                "    output = csv.DictWriter(out_file, fieldnames=fieldnames)\r\n",
                "\r\n",
                "    output.writeheader()\r\n",
                "    for row in list_of_dicts:\r\n",
                "      output.writerow(row)\r\n",
                "\r\n",
                "\r\n",
                "list_to_csv(incoming_locations, list(incoming_locations[0].keys()), 'incoming_locations.csv')\r\n",
                "observation_fieldnames = [\"G\",\"T\",\"V\",\"D\",\"S\",\"W\",\"P\",\"Pt\",\"Dp\",\"H\",'LocationID','ObservationDate','$']\r\n",
                "list_to_csv(incoming_observations, observation_fieldnames, 'incoming_observations.csv')"
            ],
            "metadata": {
                "azdata_cell_guid": "6c35031d-d417-45da-9f69-b94814542abf"
            },
            "outputs": [],
            "execution_count": 53
        }
    ]
}