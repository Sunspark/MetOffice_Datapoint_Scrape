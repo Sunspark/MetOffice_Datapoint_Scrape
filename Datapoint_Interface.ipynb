{
    "metadata": {
        "kernelspec": {
            "name": "python3",
            "display_name": "Python 3 (ipykernel)",
            "language": "python"
        },
        "language_info": {
            "name": "python",
            "version": "3.8.10",
            "mimetype": "text/x-python",
            "codemirror_mode": {
                "name": "ipython",
                "version": 3
            },
            "pygments_lexer": "ipython3",
            "nbconvert_exporter": "python",
            "file_extension": ".py"
        },
        "extensions": {
            "azuredatastudio": {
                "version": 1,
                "views": []
            }
        }
    },
    "nbformat_minor": 2,
    "nbformat": 4,
    "cells": [
        {
            "cell_type": "code",
            "source": [
                "import secret as k\r\n",
                "import requests\r\n",
                "import json"
            ],
            "metadata": {
                "azdata_cell_guid": "04e0853e-03a3-4585-8f4f-407383ed323d"
            },
            "outputs": [],
            "execution_count": 12
        },
        {
            "cell_type": "code",
            "source": [
                "request_URL = 'http://datapoint.metoffice.gov.uk/public/data/val/wxobs/all/json/3772' # the specific location for HEATHROW\r\n",
                "#request_URL = 'http://datapoint.metoffice.gov.uk/public/data/val/wxobs/all/json/all' # get everything. Note the JSON schema changes....\r\n",
                "request_params = {\r\n",
                "  'res' : 'hourly',\r\n",
                "  'key' : k.api_key\r\n",
                "}\r\n",
                "response = requests.get(request_URL, request_params)\r\n",
                "print(response.status_code)"
            ],
            "metadata": {
                "azdata_cell_guid": "38467064-435e-492c-800f-77d34ba27a9b"
            },
            "outputs": [
                {
                    "name": "stdout",
                    "text": "200\n",
                    "output_type": "stream"
                }
            ],
            "execution_count": 31
        },
        {
            "cell_type": "code",
            "source": [
                "def jprint(obj):\r\n",
                "    # create a formatted string of the Python JSON object\r\n",
                "    text = json.dumps(obj, sort_keys=True, indent=2)\r\n",
                "    print(text)\r\n",
                "\r\n",
                "jprint(response.json())"
            ],
            "metadata": {
                "azdata_cell_guid": "8ac784b2-df3f-4923-91a8-d96db08046da"
            },
            "outputs": [
                {
                    "name": "stdout",
                    "text": "{\n  \"SiteRep\": {\n    \"DV\": {\n      \"Location\": {\n        \"Period\": [\n          {\n            \"Rep\": [\n              {\n                \"$\": \"960\",\n                \"Dp\": \"10.8\",\n                \"G\": \"15\",\n                \"H\": \"69.2\",\n                \"P\": \"1016\",\n                \"Pt\": \"R\",\n                \"T\": \"16.4\",\n                \"V\": \"35000\",\n                \"W\": \"8\"\n              },\n              {\n                \"$\": \"1020\",\n                \"D\": \"SSE\",\n                \"Dp\": \"10.6\",\n                \"H\": \"74.3\",\n                \"P\": \"1017\",\n                \"Pt\": \"R\",\n                \"S\": \"8\",\n                \"T\": \"15.1\",\n                \"V\": \"35000\",\n                \"W\": \"8\"\n              },\n              {\n                \"$\": \"1080\",\n                \"D\": \"SSE\",\n                \"Dp\": \"10.4\",\n                \"H\": \"79.8\",\n                \"P\": \"1017\",\n                \"Pt\": \"R\",\n                \"S\": \"8\",\n                \"T\": \"13.8\",\n                \"V\": \"30000\",\n                \"W\": \"0\"\n              },\n              {\n                \"$\": \"1140\",\n                \"D\": \"S\",\n                \"Dp\": \"10.3\",\n                \"H\": \"83.0\",\n                \"P\": \"1017\",\n                \"Pt\": \"R\",\n                \"S\": \"6\",\n                \"T\": \"13.1\",\n                \"V\": \"30000\",\n                \"W\": \"0\"\n              },\n              {\n                \"$\": \"1200\",\n                \"D\": \"S\",\n                \"Dp\": \"9.6\",\n                \"H\": \"86.2\",\n                \"P\": \"1017\",\n                \"Pt\": \"R\",\n                \"S\": \"6\",\n                \"T\": \"11.8\",\n                \"V\": \"24000\",\n                \"W\": \"0\"\n              },\n              {\n                \"$\": \"1260\",\n                \"D\": \"SSW\",\n                \"Dp\": \"9.0\",\n                \"H\": \"89.7\",\n                \"P\": \"1018\",\n                \"Pt\": \"R\",\n                \"S\": \"3\",\n                \"T\": \"10.6\",\n                \"V\": \"16000\",\n                \"W\": \"0\"\n              },\n              {\n                \"$\": \"1320\",\n                \"D\": \"S\",\n                \"Dp\": \"10.1\",\n                \"H\": \"91.7\",\n                \"P\": \"1018\",\n                \"Pt\": \"R\",\n                \"S\": \"2\",\n                \"T\": \"11.4\",\n                \"V\": \"15000\",\n                \"W\": \"0\"\n              },\n              {\n                \"$\": \"1380\",\n                \"D\": \"E\",\n                \"Dp\": \"8.9\",\n                \"H\": \"94.1\",\n                \"P\": \"1018\",\n                \"Pt\": \"R\",\n                \"S\": \"2\",\n                \"T\": \"9.8\",\n                \"V\": \"7000\",\n                \"W\": \"5\"\n              }\n            ],\n            \"type\": \"Day\",\n            \"value\": \"2021-10-17Z\"\n          },\n          {\n            \"Rep\": [\n              {\n                \"$\": \"0\",\n                \"D\": \"ESE\",\n                \"Dp\": \"8.5\",\n                \"H\": \"96.7\",\n                \"P\": \"1018\",\n                \"Pt\": \"R\",\n                \"S\": \"3\",\n                \"T\": \"9.0\",\n                \"V\": \"6000\",\n                \"W\": \"5\"\n              },\n              {\n                \"$\": \"60\",\n                \"D\": \"ENE\",\n                \"Dp\": \"8.3\",\n                \"H\": \"96.6\",\n                \"P\": \"1018\",\n                \"Pt\": \"F\",\n                \"S\": \"1\",\n                \"T\": \"8.8\",\n                \"V\": \"11000\",\n                \"W\": \"0\"\n              },\n              {\n                \"$\": \"120\",\n                \"D\": \"SE\",\n                \"Dp\": \"7.9\",\n                \"H\": \"96.6\",\n                \"P\": \"1018\",\n                \"Pt\": \"F\",\n                \"S\": \"3\",\n                \"T\": \"8.4\",\n                \"V\": \"5000\",\n                \"W\": \"5\"\n              },\n              {\n                \"$\": \"180\",\n                \"D\": \"SE\",\n                \"Dp\": \"7.5\",\n                \"H\": \"97.3\",\n                \"P\": \"1017\",\n                \"Pt\": \"F\",\n                \"S\": \"5\",\n                \"T\": \"7.9\",\n                \"V\": \"3400\",\n                \"W\": \"5\"\n              },\n              {\n                \"$\": \"240\",\n                \"D\": \"SE\",\n                \"Dp\": \"7.0\",\n                \"H\": \"97.3\",\n                \"P\": \"1017\",\n                \"Pt\": \"F\",\n                \"S\": \"5\",\n                \"T\": \"7.4\",\n                \"V\": \"3300\",\n                \"W\": \"5\"\n              },\n              {\n                \"$\": \"300\",\n                \"D\": \"SE\",\n                \"Dp\": \"7.5\",\n                \"H\": \"97.8\",\n                \"P\": \"1017\",\n                \"Pt\": \"F\",\n                \"S\": \"5\",\n                \"T\": \"7.8\",\n                \"V\": \"4600\",\n                \"W\": \"5\"\n              },\n              {\n                \"$\": \"360\",\n                \"D\": \"SSE\",\n                \"Dp\": \"10.1\",\n                \"H\": \"98.7\",\n                \"P\": \"1017\",\n                \"Pt\": \"S\",\n                \"S\": \"6\",\n                \"T\": \"10.3\",\n                \"V\": \"5000\",\n                \"W\": \"5\"\n              },\n              {\n                \"$\": \"420\",\n                \"D\": \"SE\",\n                \"Dp\": \"10.2\",\n                \"H\": \"96.0\",\n                \"P\": \"1017\",\n                \"Pt\": \"F\",\n                \"S\": \"8\",\n                \"T\": \"10.8\",\n                \"V\": \"6000\",\n                \"W\": \"5\"\n              },\n              {\n                \"$\": \"480\",\n                \"D\": \"SE\",\n                \"Dp\": \"11.2\",\n                \"H\": \"96.0\",\n                \"P\": \"1016\",\n                \"Pt\": \"F\",\n                \"S\": \"8\",\n                \"T\": \"11.8\",\n                \"V\": \"7000\",\n                \"W\": \"5\"\n              },\n              {\n                \"$\": \"540\",\n                \"D\": \"SSE\",\n                \"Dp\": \"12.5\",\n                \"H\": \"94.8\",\n                \"P\": \"1017\",\n                \"Pt\": \"F\",\n                \"S\": \"8\",\n                \"T\": \"13.3\",\n                \"V\": \"7000\",\n                \"W\": \"5\"\n              },\n              {\n                \"$\": \"600\",\n                \"D\": \"SSE\",\n                \"Dp\": \"13.3\",\n                \"H\": \"90.0\",\n                \"P\": \"1016\",\n                \"Pt\": \"F\",\n                \"S\": \"8\",\n                \"T\": \"14.9\",\n                \"V\": \"11000\",\n                \"W\": \"8\"\n              },\n              {\n                \"$\": \"660\",\n                \"D\": \"S\",\n                \"Dp\": \"13.0\",\n                \"H\": \"81.2\",\n                \"P\": \"1016\",\n                \"Pt\": \"F\",\n                \"S\": \"9\",\n                \"T\": \"16.2\",\n                \"V\": \"25000\",\n                \"W\": \"8\"\n              },\n              {\n                \"$\": \"720\",\n                \"D\": \"S\",\n                \"Dp\": \"13.4\",\n                \"H\": \"80.3\",\n                \"P\": \"1016\",\n                \"Pt\": \"F\",\n                \"S\": \"10\",\n                \"T\": \"16.8\",\n                \"V\": \"28000\",\n                \"W\": \"8\"\n              },\n              {\n                \"$\": \"780\",\n                \"D\": \"S\",\n                \"Dp\": \"14.4\",\n                \"H\": \"87.3\",\n                \"P\": \"1015\",\n                \"Pt\": \"F\",\n                \"S\": \"10\",\n                \"T\": \"16.5\",\n                \"V\": \"21000\",\n                \"W\": \"10\"\n              },\n              {\n                \"$\": \"840\",\n                \"Dp\": \"14.0\",\n                \"G\": \"18\",\n                \"H\": \"84.5\",\n                \"P\": \"1015\",\n                \"Pt\": \"F\",\n                \"T\": \"16.6\",\n                \"V\": \"21000\",\n                \"W\": \"7\"\n              },\n              {\n                \"$\": \"900\",\n                \"D\": \"S\",\n                \"Dp\": \"14.3\",\n                \"H\": \"87.9\",\n                \"P\": \"1014\",\n                \"Pt\": \"F\",\n                \"S\": \"9\",\n                \"T\": \"16.3\",\n                \"V\": \"22000\",\n                \"W\": \"8\"\n              },\n              {\n                \"$\": \"960\",\n                \"D\": \"S\",\n                \"Dp\": \"14.5\",\n                \"H\": \"89.1\",\n                \"P\": \"1014\",\n                \"Pt\": \"F\",\n                \"S\": \"9\",\n                \"T\": \"16.3\",\n                \"V\": \"30000\",\n                \"W\": \"12\"\n              }\n            ],\n            \"type\": \"Day\",\n            \"value\": \"2021-10-18Z\"\n          }\n        ],\n        \"continent\": \"EUROPE\",\n        \"country\": \"ENGLAND\",\n        \"elevation\": \"25.0\",\n        \"i\": \"3772\",\n        \"lat\": \"51.479\",\n        \"lon\": \"-0.449\",\n        \"name\": \"HEATHROW\"\n      },\n      \"dataDate\": \"2021-10-18T16:00:00Z\",\n      \"type\": \"Obs\"\n    },\n    \"Wx\": {\n      \"Param\": [\n        {\n          \"$\": \"Wind Gust\",\n          \"name\": \"G\",\n          \"units\": \"mph\"\n        },\n        {\n          \"$\": \"Temperature\",\n          \"name\": \"T\",\n          \"units\": \"C\"\n        },\n        {\n          \"$\": \"Visibility\",\n          \"name\": \"V\",\n          \"units\": \"m\"\n        },\n        {\n          \"$\": \"Wind Direction\",\n          \"name\": \"D\",\n          \"units\": \"compass\"\n        },\n        {\n          \"$\": \"Wind Speed\",\n          \"name\": \"S\",\n          \"units\": \"mph\"\n        },\n        {\n          \"$\": \"Weather Type\",\n          \"name\": \"W\",\n          \"units\": \"\"\n        },\n        {\n          \"$\": \"Pressure\",\n          \"name\": \"P\",\n          \"units\": \"hpa\"\n        },\n        {\n          \"$\": \"Pressure Tendency\",\n          \"name\": \"Pt\",\n          \"units\": \"Pa/s\"\n        },\n        {\n          \"$\": \"Dew Point\",\n          \"name\": \"Dp\",\n          \"units\": \"C\"\n        },\n        {\n          \"$\": \"Screen Relative Humidity\",\n          \"name\": \"H\",\n          \"units\": \"%\"\n        }\n      ]\n    }\n  }\n}\n",
                    "output_type": "stream"
                }
            ],
            "execution_count": 32
        },
        {
            "cell_type": "code",
            "source": [
                "incoming_locations = []\r\n",
                "incoming_observations = []\r\n",
                "\r\n",
                "for location in response.json()['SiteRep']['DV']:\r\n",
                "  print(location['Location'])\r\n",
                ""
            ],
            "metadata": {
                "azdata_cell_guid": "16826f17-bdc7-4812-a9ea-f7f331d4d612"
            },
            "outputs": [
                {
                    "traceback": [
                        "\u001b[1;31m---------------------------------------------------------------------------\u001b[0m",
                        "\u001b[1;31mTypeError\u001b[0m                                 Traceback (most recent call last)",
                        "\u001b[1;32m~\\AppData\\Local\\Temp/ipykernel_1328/2297639227.py\u001b[0m in \u001b[0;36m<module>\u001b[1;34m\u001b[0m\n\u001b[0;32m      3\u001b[0m \u001b[1;33m\u001b[0m\u001b[0m\n\u001b[0;32m      4\u001b[0m \u001b[1;32mfor\u001b[0m \u001b[0mlocation\u001b[0m \u001b[1;32min\u001b[0m \u001b[0mresponse\u001b[0m\u001b[1;33m.\u001b[0m\u001b[0mjson\u001b[0m\u001b[1;33m(\u001b[0m\u001b[1;33m)\u001b[0m\u001b[1;33m[\u001b[0m\u001b[1;34m'SiteRep'\u001b[0m\u001b[1;33m]\u001b[0m\u001b[1;33m[\u001b[0m\u001b[1;34m'DV'\u001b[0m\u001b[1;33m]\u001b[0m\u001b[1;33m:\u001b[0m\u001b[1;33m\u001b[0m\u001b[1;33m\u001b[0m\u001b[0m\n\u001b[1;32m----> 5\u001b[1;33m   \u001b[0mprint\u001b[0m\u001b[1;33m(\u001b[0m\u001b[0mlocation\u001b[0m\u001b[1;33m[\u001b[0m\u001b[1;34m'Location'\u001b[0m\u001b[1;33m]\u001b[0m\u001b[1;33m)\u001b[0m\u001b[1;33m\u001b[0m\u001b[1;33m\u001b[0m\u001b[0m\n\u001b[0m",
                        "\u001b[1;31mTypeError\u001b[0m: string indices must be integers"
                    ],
                    "ename": "TypeError",
                    "evalue": "string indices must be integers",
                    "output_type": "error"
                }
            ],
            "execution_count": 28
        }
    ]
}