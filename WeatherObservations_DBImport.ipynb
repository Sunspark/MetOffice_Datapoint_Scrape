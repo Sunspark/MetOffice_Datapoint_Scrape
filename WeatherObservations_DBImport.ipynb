{
    "metadata": {
        "kernelspec": {
            "name": "python3",
            "display_name": "Python 3 (ipykernel)",
            "language": "python"
        },
        "language_info": {
            "name": "python",
            "version": "3.8.10",
            "mimetype": "text/x-python",
            "codemirror_mode": {
                "name": "ipython",
                "version": 3
            },
            "pygments_lexer": "ipython3",
            "nbconvert_exporter": "python",
            "file_extension": ".py"
        },
        "extensions": {
            "azuredatastudio": {
                "version": 1,
                "views": []
            }
        }
    },
    "nbformat_minor": 2,
    "nbformat": 4,
    "cells": [
        {
            "cell_type": "code",
            "source": [
                "import pyodbc\r\n",
                "import secret as k\r\n",
                "import csv\r\n",
                "# Some other example server values are\r\n",
                "# server = 'localhost\\sqlexpress' # for a named instance\r\n",
                "# server = 'myserver,port' # to specify an alternate port\r\n",
                "server = k.db_server\r\n",
                "database = k.db_database\r\n",
                "username = k.db_username\r\n",
                "password = k.db_password\r\n",
                ""
            ],
            "metadata": {
                "azdata_cell_guid": "aa894c4c-5895-45b3-ad21-215b73bb53b1"
            },
            "outputs": [],
            "execution_count": 4
        },
        {
            "cell_type": "code",
            "source": [
                "# Get the CSV, and spin it to a list of tuples.\r\n",
                "with open('incoming_observations.csv') as csv_in:\r\n",
                "    incoming_observations = [tuple(line) for line in csv.reader(csv_in)]\r\n",
                "\r\n",
                "incoming_observations.pop(0) # Take the header row off\r\n",
                "#incoming_observations\r\n",
                "\r\n",
                "query = \"INSERT INTO lnd_MetOffice.DataPoint_WeatherObservations ([G], [T], [V], [D], [S], [W], [P], [Pt], [Dp], [H], [LocationID], [ObservationDate], [$]) VALUES (NULLIF(?,''), NULLIF(?,''), NULLIF(?,''), NULLIF(?,''), NULLIF(?,''), NULLIF(?,''), NULLIF(?,''), NULLIF(?,''), NULLIF(?,''), NULLIF(?,''), NULLIF(?,''), NULLIF(?,''), NULLIF(?,''));\"\r\n",
                ""
            ],
            "metadata": {
                "azdata_cell_guid": "2e41b909-0777-4b3c-8878-cd4104d8cc87"
            },
            "outputs": [],
            "execution_count": 5
        },
        {
            "cell_type": "code",
            "source": [
                "cnxn = pyodbc.connect('DRIVER={ODBC Driver 17 for SQL Server};SERVER='+server+';DATABASE='+database+';UID='+username+';PWD='+ password)\r\n",
                "cursor = cnxn.cursor()\r\n",
                "\r\n",
                "# Empty landing table before landing\r\n",
                "cursor.execute(\"TRUNCATE TABLE lnd_MetOffice.DataPoint_WeatherObservations\")\r\n",
                "\r\n",
                "cursor.fast_executemany = True\r\n",
                "success = cursor.executemany(query, incoming_observations)\r\n",
                "\r\n",
                "cnxn.commit()\r\n",
                "cursor.close"
            ],
            "metadata": {
                "azdata_cell_guid": "03306d63-4fd8-4593-814b-9b2df5b66d9a"
            },
            "outputs": [
                {
                    "data": {
                        "text/plain": "<function Cursor.close>"
                    },
                    "metadata": {},
                    "execution_count": 6,
                    "output_type": "execute_result"
                }
            ],
            "execution_count": 6
        }
    ]
}